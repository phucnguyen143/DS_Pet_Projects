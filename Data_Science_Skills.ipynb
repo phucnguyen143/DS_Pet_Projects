{
 "cells": [
  {
   "cell_type": "markdown",
   "metadata": {},
   "source": [
    "# To answer questions:\n",
    "### - Do I need a Master or Ph.D degree for a Data Science job?\n",
    "### - Is learning python a really good choice for my intention of working in Data Science"
   ]
  },
  {
   "cell_type": "markdown",
   "metadata": {},
   "source": [
    "## Web crawl, pandas, matplotlib exercise"
   ]
  },
  {
   "cell_type": "markdown",
   "metadata": {},
   "source": [
    "Step 1: Make a list of link to each job\n",
    "\n",
    "Step 2: Go to each link and scrape for information\n",
    "\n",
    "Step 3: Make stats comparision"
   ]
  },
  {
   "cell_type": "code",
   "execution_count": 46,
   "metadata": {},
   "outputs": [],
   "source": [
    "import numpy as np\n",
    "import pandas as pd\n",
    "from bs4 import BeautifulSoup\n",
    "import requests\n",
    "import time\n",
    "import re\n",
    "import matplotlib.pyplot as plt"
   ]
  },
  {
   "cell_type": "code",
   "execution_count": 3,
   "metadata": {},
   "outputs": [],
   "source": [
    "# Study the web\n",
    "\n",
    "url = 'https://vn.indeed.com/Vi%E1%BB%87c-l%C3%A0m?q=data+science&l='\n",
    "source_doc = requests.get(url).text\n",
    "source_tree = BeautifulSoup(source_doc, 'html.parser')"
   ]
  },
  {
   "cell_type": "code",
   "execution_count": 4,
   "metadata": {},
   "outputs": [
    {
     "name": "stdout",
     "output_type": "stream",
     "text": [
      "Search yielded 358 hit\n"
     ]
    }
   ],
   "source": [
    "#How many jobs posted\n",
    "\n",
    "job_count_string = source_tree.find(id = 'searchCount').contents[0]\n",
    "job_count_string = job_count_string.split()[-1]\n",
    "print('Search yielded {} hit'.format(job_count_string))\n",
    "job_count = int(job_count_string)"
   ]
  },
  {
   "cell_type": "code",
   "execution_count": 5,
   "metadata": {},
   "outputs": [
    {
     "name": "stdout",
     "output_type": "stream",
     "text": [
      "We found 339 jobs\n"
     ]
    }
   ],
   "source": [
    "'''Go to each page and scrape'''\n",
    "\n",
    "num_pages = int(job_count // 10)\n",
    "\n",
    "base_url = 'https://vn.indeed.com'\n",
    "job_links = []\n",
    "\n",
    "for i in range(num_pages + 1):\n",
    "    if i == 0:\n",
    "        url = 'https://vn.indeed.com/Vi%E1%BB%87c-l%C3%A0m?q=data+science&l='\n",
    "    else:\n",
    "        url = 'https://vn.indeed.com/Vi%E1%BB%87c-l%C3%A0m?q=data+science&start=' + str(i*10)\n",
    "    \n",
    "    html_page = requests.get(url).text\n",
    "    bs_tree = BeautifulSoup(html_page, 'html.parser')\n",
    "    job_area = bs_tree.find(id = 'resultsCol')\n",
    "    job_post = job_area.findAll('div')\n",
    "    job_post = [jp for jp in job_post if not jp.get('class') is None\n",
    "               and ''.join(jp.get('class')) == 'rowresult']\n",
    "    job_ids = [jp.get('data-jk') for jp in job_post]\n",
    "    \n",
    "    for ids in job_ids:\n",
    "        job_links.append(base_url + '/viewjob?jk=' + ids)\n",
    "        \n",
    "    time.sleep(1)\n",
    "\n",
    "print('We found {} jobs'.format(len(job_links)))"
   ]
  },
  {
   "cell_type": "code",
   "execution_count": 9,
   "metadata": {},
   "outputs": [],
   "source": [
    "'''\n",
    "Go to each link and scrape for information\n",
    "'''\n",
    "\n",
    "def job_description():\n",
    "    counter = 1\n",
    "    job_description = []\n",
    "    for link in job_links:\n",
    "        try:\n",
    "            html_page = requests.get(link).text\n",
    "        except:\n",
    "            return\n",
    "\n",
    "        html_text = BeautifulSoup(html_page, 'html.parser')\n",
    "        \n",
    "        for script in html_text([\"script\", \"style\"]):\n",
    "            script.extract()\n",
    "        text = html_text.get_text()\n",
    "        job_description.append(text)\n",
    "\n",
    "        counter += 1\n",
    "        time.sleep(1)\n",
    "    \n",
    "    return job_description\n",
    "\n",
    "JD = job_description()"
   ]
  },
  {
   "cell_type": "markdown",
   "metadata": {},
   "source": [
    "## Make statistics comparision\n"
   ]
  },
  {
   "cell_type": "code",
   "execution_count": 33,
   "metadata": {},
   "outputs": [],
   "source": [
    "languages = {'Python': 0, \"R\": 0, 'Java': 0, 'PHP':0}\n",
    "db_skills = {'sql': 0, 'mysql':0, 'mongodb': 0}\n",
    "degrees = {'Bachelor': 0, 'Ph.D': 0, 'Master': 0}\n",
    "\n",
    "def requirement(requirement):\n",
    "    for jd in JD:\n",
    "        for key in requirement.keys():\n",
    "            if key in jd:\n",
    "                requirement[key] += 1\n",
    "    return requirement\n",
    "\n",
    "rq_language = requirement(languages)\n",
    "rq_degrees = requirement(degrees)"
   ]
  },
  {
   "cell_type": "code",
   "execution_count": 34,
   "metadata": {},
   "outputs": [
    {
     "name": "stdout",
     "output_type": "stream",
     "text": [
      "{'Python': 67, 'PHP': 55, 'R': 330, 'Java': 132}\n",
      "{'Bachelor': 157, 'Ph.D': 8, 'Master': 44}\n"
     ]
    }
   ],
   "source": [
    "print(rq_language)\n",
    "print(rq_degrees)"
   ]
  },
  {
   "cell_type": "markdown",
   "metadata": {},
   "source": [
    "### *SUBJECT TO BE IMPROVED FROM HERE"
   ]
  },
  {
   "cell_type": "code",
   "execution_count": 82,
   "metadata": {},
   "outputs": [],
   "source": [
    "language_df = pd.DataFrame(list(rq_language.items()), index=rq_language.keys(), columns=['Language', 'Mentions'])\n",
    "degrees_df = pd.DataFrame(list(rq_degrees.items()), index=rq_degrees.keys(), columns=['Degree', 'Mentions'])"
   ]
  },
  {
   "cell_type": "code",
   "execution_count": 83,
   "metadata": {},
   "outputs": [
    {
     "data": {
      "text/html": [
       "<div>\n",
       "<style scoped>\n",
       "    .dataframe tbody tr th:only-of-type {\n",
       "        vertical-align: middle;\n",
       "    }\n",
       "\n",
       "    .dataframe tbody tr th {\n",
       "        vertical-align: top;\n",
       "    }\n",
       "\n",
       "    .dataframe thead th {\n",
       "        text-align: right;\n",
       "    }\n",
       "</style>\n",
       "<table border=\"1\" class=\"dataframe\">\n",
       "  <thead>\n",
       "    <tr style=\"text-align: right;\">\n",
       "      <th></th>\n",
       "      <th>Language</th>\n",
       "      <th>Mentions</th>\n",
       "    </tr>\n",
       "  </thead>\n",
       "  <tbody>\n",
       "    <tr>\n",
       "      <th>Python</th>\n",
       "      <td>Python</td>\n",
       "      <td>67</td>\n",
       "    </tr>\n",
       "    <tr>\n",
       "      <th>PHP</th>\n",
       "      <td>PHP</td>\n",
       "      <td>55</td>\n",
       "    </tr>\n",
       "    <tr>\n",
       "      <th>R</th>\n",
       "      <td>R</td>\n",
       "      <td>330</td>\n",
       "    </tr>\n",
       "    <tr>\n",
       "      <th>Java</th>\n",
       "      <td>Java</td>\n",
       "      <td>132</td>\n",
       "    </tr>\n",
       "  </tbody>\n",
       "</table>\n",
       "</div>"
      ],
      "text/plain": [
       "       Language  Mentions\n",
       "Python   Python        67\n",
       "PHP         PHP        55\n",
       "R             R       330\n",
       "Java       Java       132"
      ]
     },
     "execution_count": 83,
     "metadata": {},
     "output_type": "execute_result"
    }
   ],
   "source": [
    "language_df"
   ]
  },
  {
   "cell_type": "code",
   "execution_count": 84,
   "metadata": {},
   "outputs": [
    {
     "data": {
      "text/html": [
       "<div>\n",
       "<style scoped>\n",
       "    .dataframe tbody tr th:only-of-type {\n",
       "        vertical-align: middle;\n",
       "    }\n",
       "\n",
       "    .dataframe tbody tr th {\n",
       "        vertical-align: top;\n",
       "    }\n",
       "\n",
       "    .dataframe thead th {\n",
       "        text-align: right;\n",
       "    }\n",
       "</style>\n",
       "<table border=\"1\" class=\"dataframe\">\n",
       "  <thead>\n",
       "    <tr style=\"text-align: right;\">\n",
       "      <th></th>\n",
       "      <th>Degree</th>\n",
       "      <th>Mentions</th>\n",
       "    </tr>\n",
       "  </thead>\n",
       "  <tbody>\n",
       "    <tr>\n",
       "      <th>Bachelor</th>\n",
       "      <td>Bachelor</td>\n",
       "      <td>157</td>\n",
       "    </tr>\n",
       "    <tr>\n",
       "      <th>Ph.D</th>\n",
       "      <td>Ph.D</td>\n",
       "      <td>8</td>\n",
       "    </tr>\n",
       "    <tr>\n",
       "      <th>Master</th>\n",
       "      <td>Master</td>\n",
       "      <td>44</td>\n",
       "    </tr>\n",
       "  </tbody>\n",
       "</table>\n",
       "</div>"
      ],
      "text/plain": [
       "            Degree  Mentions\n",
       "Bachelor  Bachelor       157\n",
       "Ph.D          Ph.D         8\n",
       "Master      Master        44"
      ]
     },
     "execution_count": 84,
     "metadata": {},
     "output_type": "execute_result"
    }
   ],
   "source": [
    "degrees_df"
   ]
  },
  {
   "cell_type": "markdown",
   "metadata": {},
   "source": [
    "## Visualization"
   ]
  },
  {
   "cell_type": "code",
   "execution_count": 85,
   "metadata": {},
   "outputs": [
    {
     "data": {
      "text/plain": [
       "Text(0.5,1,'Mentions of programming languages in Data Science jobs search from vn.indeed.com')"
      ]
     },
     "execution_count": 85,
     "metadata": {},
     "output_type": "execute_result"
    },
    {
     "data": {
      "image/png": "[encoded data removed]",
      "text/plain": [
       "<Figure size 432x288 with 1 Axes>"
      ]
     },
     "metadata": {},
     "output_type": "display_data"
    }
   ],
   "source": [
    "lang_fig = language_df['Mentions'].plot(kind='bar')\n",
    "lang_fig.set_ylabel('Mentions')\n",
    "lang_fig.set_xlabel('Programming language')\n",
    "lang_fig.set_title('Mentions of programming languages in Data Science jobs search from vn.indeed.com')"
   ]
  },
  {
   "cell_type": "code",
   "execution_count": 86,
   "metadata": {},
   "outputs": [
    {
     "data": {
      "text/plain": [
       "Text(0.5,1,'Mentions of degree level in Data Science jobs search from vn.indeed.com')"
      ]
     },
     "execution_count": 86,
     "metadata": {},
     "output_type": "execute_result"
    },
    {
     "data": {
      "image/png": "[encoded data removed]",
      "text/plain": [
       "<Figure size 432x288 with 1 Axes>"
      ]
     },
     "metadata": {},
     "output_type": "display_data"
    }
   ],
   "source": [
    "deg_fig = degrees_df['Mentions'].plot(kind='bar')\n",
    "deg_fig.set_ylabel('Mentions')\n",
    "deg_fig.set_xlabel('Degrees level')\n",
    "deg_fig.set_title('Mentions of degree level in Data Science jobs search from vn.indeed.com')"
   ]
  },
  {
   "cell_type": "code",
   "execution_count": null,
   "metadata": {},
   "outputs": [],
   "source": []
  }
 ],
 "metadata": {
  "kernelspec": {
   "display_name": "Python 3",
   "language": "python",
   "name": "python3"
  },
  "language_info": {
   "codemirror_mode": {
    "name": "ipython",
    "version": 3
   },
   "file_extension": ".py",
   "mimetype": "text/x-python",
   "name": "python",
   "nbconvert_exporter": "python",
   "pygments_lexer": "ipython3",
   "version": "3.5.2"
  }
 },
 "nbformat": 4,
 "nbformat_minor": 2
}
