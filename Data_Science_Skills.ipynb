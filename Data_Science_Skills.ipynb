{
 "cells": [
  {
   "cell_type": "markdown",
   "metadata": {},
   "source": [
    "# Search for popular skills needed for data scientist in vn.indeed.com"
   ]
  },
  {
   "cell_type": "markdown",
   "metadata": {},
   "source": [
    "Step 1: Make a list of link to each job\n",
    "\n",
    "Step 2: Go to each link and scrape for information\n",
    "\n",
    "Step 3: Make stats comparision"
   ]
  },
  {
   "cell_type": "code",
   "execution_count": 1,
   "metadata": {},
   "outputs": [],
   "source": [
    "import numpy as np\n",
    "import pandas as pd\n",
    "from bs4 import BeautifulSoup\n",
    "import requests\n",
    "import time\n",
    "import re"
   ]
  },
  {
   "cell_type": "code",
   "execution_count": 2,
   "metadata": {},
   "outputs": [],
   "source": [
    "# Study the web\n",
    "\n",
    "url = 'https://vn.indeed.com/Vi%E1%BB%87c-l%C3%A0m?q=data+science&l='\n",
    "source_doc = requests.get(url).text\n",
    "source_tree = BeautifulSoup(source_doc, 'html.parser')"
   ]
  },
  {
   "cell_type": "code",
   "execution_count": 4,
   "metadata": {},
   "outputs": [
    {
     "name": "stdout",
     "output_type": "stream",
     "text": [
      "Search yielded 370 hit\n"
     ]
    }
   ],
   "source": [
    "#How many jobs posted\n",
    "\n",
    "job_count_string = source_tree.find(id = 'searchCount').contents[0]\n",
    "job_count_string = job_count_string.split()[-1]\n",
    "print('Search yielded {} hit'.format(job_count_string))\n",
    "job_count = int(job_count_string)"
   ]
  },
  {
   "cell_type": "code",
   "execution_count": 5,
   "metadata": {},
   "outputs": [
    {
     "name": "stdout",
     "output_type": "stream",
     "text": [
      "We found 397 jobs\n"
     ]
    }
   ],
   "source": [
    "'''Go to each page and scrape'''\n",
    "\n",
    "num_pages = int(job_count // 10)\n",
    "\n",
    "base_url = 'https://vn.indeed.com'\n",
    "job_links = []\n",
    "\n",
    "for i in range(num_pages + 1):\n",
    "    if i == 0:\n",
    "        url = 'https://vn.indeed.com/Vi%E1%BB%87c-l%C3%A0m?q=data+science&l='\n",
    "    else:\n",
    "        url = 'https://vn.indeed.com/Vi%E1%BB%87c-l%C3%A0m?q=data+science&start=' + str(i*10)\n",
    "    \n",
    "    html_page = requests.get(url).text\n",
    "    bs_tree = BeautifulSoup(html_page, 'html.parser')\n",
    "    job_area = bs_tree.find(id = 'resultsCol')\n",
    "    job_post = job_area.findAll('div')\n",
    "    job_post = [jp for jp in job_post if not jp.get('class') is None\n",
    "               and ''.join(jp.get('class')) == 'rowresult']\n",
    "    job_ids = [jp.get('data-jk') for jp in job_post]\n",
    "    \n",
    "    for ids in job_ids:\n",
    "        job_links.append(base_url + '/viewjob?jk=' + ids)\n",
    "        \n",
    "    time.sleep(1)\n",
    "\n",
    "print('We found {} jobs'.format(len(job_links)))"
   ]
  },
  {
   "cell_type": "code",
   "execution_count": 10,
   "metadata": {},
   "outputs": [
    {
     "name": "stdout",
     "output_type": "stream",
     "text": [
      "{'bachelor': 166, 'ph.d': 5, 'master': 60}\n"
     ]
    }
   ],
   "source": [
    "'''\n",
    "Go to each link and scrape for information\n",
    "'''\n",
    "\n",
    "languages = {'python': 0, \"r\": 0, 'java': 0, 'php':0}\n",
    "db_skills = {'sql': 0, 'mysql':0, 'mongodb': 0}\n",
    "degrees = {'bachelor': 0, 'ph.d': 0, 'master': 0}\n",
    "\n",
    "def requirements(requirement):\n",
    "    counter = 1\n",
    "    for link in job_links:\n",
    "        try:\n",
    "            html_page = requests.get(link).text\n",
    "        except:\n",
    "            return\n",
    "\n",
    "        html_text = BeautifulSoup(html_page, 'html.parser')\n",
    "        \n",
    "        for script in html_text([\"script\", \"style\"]):\n",
    "            script.extract()\n",
    "        text = html_text.get_text()\n",
    "        \n",
    "        for key in requirement.keys():\n",
    "            if key in text.lower():\n",
    "                requirement[key] += 1\n",
    "        counter += 1\n",
    "        time.sleep(1)\n",
    "    \n",
    "    if counter % 10 == 0:\n",
    "        print('Scanned {} job'.format(counter))\n",
    "    \n",
    "    return requirement\n",
    "\n",
    "result = requirements(degrees)\n",
    "\n",
    "print(result)"
   ]
  },
  {
   "cell_type": "code",
   "execution_count": null,
   "metadata": {},
   "outputs": [],
   "source": [
    "'''Make statistics comparision\n",
    "'''"
   ]
  },
  {
   "cell_type": "code",
   "execution_count": null,
   "metadata": {},
   "outputs": [],
   "source": []
  },
  {
   "cell_type": "code",
   "execution_count": null,
   "metadata": {},
   "outputs": [],
   "source": []
  },
  {
   "cell_type": "code",
   "execution_count": null,
   "metadata": {},
   "outputs": [],
   "source": []
  },
  {
   "cell_type": "code",
   "execution_count": null,
   "metadata": {},
   "outputs": [],
   "source": []
  }
 ],
 "metadata": {
  "kernelspec": {
   "display_name": "Python 3",
   "language": "python",
   "name": "python3"
  },
  "language_info": {
   "codemirror_mode": {
    "name": "ipython",
    "version": 3
   },
   "file_extension": ".py",
   "mimetype": "text/x-python",
   "name": "python",
   "nbconvert_exporter": "python",
   "pygments_lexer": "ipython3",
   "version": "3.6.4"
  }
 },
 "nbformat": 4,
 "nbformat_minor": 2
}
